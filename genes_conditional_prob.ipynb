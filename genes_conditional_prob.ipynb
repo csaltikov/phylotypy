{
 "cells": [
  {
   "cell_type": "code",
   "id": "initial_id",
   "metadata": {
    "collapsed": true,
    "ExecuteTime": {
     "end_time": "2025-01-12T03:21:24.679462Z",
     "start_time": "2025-01-12T03:21:24.101949Z"
    }
   },
   "source": [
    "from pathlib import Path\n",
    "import itertools\n",
    "import multiprocessing as mp\n",
    "\n",
    "import numpy as np\n",
    "import pandas as pd\n",
    "\n",
    "import kmers"
   ],
   "outputs": [],
   "execution_count": 1
  },
  {
   "metadata": {
    "ExecuteTime": {
     "end_time": "2025-01-12T03:21:25.594770Z",
     "start_time": "2025-01-12T03:21:25.586148Z"
    }
   },
   "cell_type": "code",
   "source": "kmers.seq_to_base4(\"ATCG\")",
   "id": "538f4f1875eb6e90",
   "outputs": [
    {
     "data": {
      "text/plain": [
       "'0312'"
      ]
     },
     "execution_count": 2,
     "metadata": {},
     "output_type": "execute_result"
    }
   ],
   "execution_count": 2
  },
  {
   "metadata": {
    "ExecuteTime": {
     "end_time": "2025-01-12T03:21:33.265460Z",
     "start_time": "2025-01-12T03:21:33.261335Z"
    }
   },
   "cell_type": "code",
   "source": [
    "def detect_kmers_across_sequences_mp(sequences: list,\n",
    "                                     kmer_size: int = 8,\n",
    "                                     num_processes: int = 4,\n",
    "                                     verbose: bool = False) -> list:\n",
    "    if verbose:\n",
    "        print(\"Detecting kmers across sequences mp\")\n",
    "    with mp.Pool(num_processes) as pool:\n",
    "        args_list = [(seq, kmer_size) for seq in sequences]\n",
    "        collected_results = pool.starmap_async(kmers.detect_kmers, args_list)\n",
    "        results = collected_results.get()\n",
    "    return results"
   ],
   "id": "93eb598d4482e09f",
   "outputs": [],
   "execution_count": 4
  },
  {
   "metadata": {
    "ExecuteTime": {
     "end_time": "2025-01-12T03:21:32.407939Z",
     "start_time": "2025-01-12T03:21:32.028929Z"
    }
   },
   "cell_type": "code",
   "outputs": [],
   "execution_count": 3,
   "source": [
    "ref_data = Path(\"data/trainset19_072023_db.csv\")\n",
    "\n",
    "ref_db = pd.read_csv(ref_data)\n",
    "\n",
    "ref_db_sample = ref_db.sample(1000)"
   ],
   "id": "b8bb0e7c8a99ce5b"
  },
  {
   "metadata": {
    "ExecuteTime": {
     "end_time": "2025-01-12T03:21:40.683703Z",
     "start_time": "2025-01-12T03:21:40.151119Z"
    }
   },
   "cell_type": "code",
   "source": [
    "def genus_conditional_prob(detect_list: list[list],\n",
    "                           genera_idx: list,\n",
    "                           kmer_size: int = 8):\n",
    "    kmers_idx_array = np.array(detect_list, dtype=object)\n",
    "    genus_counts = np.zeros((len(detect_list), 4**kmer_size), dtype=int)\n",
    "    row_idx = np.arange(len(kmers_idx_array)).repeat(np.vectorize(len)(kmers_idx_array))\n",
    "    col_idx = np.concatenate(kmers_idx_array)\n",
    "\n",
    "    genus_counts[row_idx, col_idx] = 1\n",
    "\n",
    "    genus_count = np.append(genera_idx, genus_counts, axis=1)\n",
    "    genera_idx = genus_count[:, 0].astype(int)\n",
    "    genus_count_data = genus_count[:, 1:]\n",
    "    unique_genera, inverse_indices = np.unique(genera_idx, return_inverse=True)\n",
    "    genus_count_filled = np.zeros((len(unique_genera), genus_count_data.shape[1]))\n",
    "    np.add.at(genus_count_filled, inverse_indices, genus_count_data)\n",
    "\n",
    "    return genus_count_filled\n",
    "\n",
    "kmr_size = 3\n",
    "#\n",
    "# kmers_idx_list = [\n",
    "#     [0, 10, 12, 4, 50],\n",
    "#     [12, 21, 3, 60, 10, 5],\n",
    "#     [1, 3, 21, 55]\n",
    "# ]\n",
    "#\n",
    "# kmers_idx_array = np.array(kmers_idx_list, dtype=object)\n",
    "#\n",
    "# kmers_arr = np.zeros((len(kmers_list), 4**kmr_size))\n",
    "#\n",
    "# row_idx = np.arange(len(kmers_idx_array)).repeat(np.vectorize(len)(kmers_idx_array))\n",
    "#\n",
    "# col_indices = np.concatenate(kmers_idx_array)\n",
    "#\n",
    "# # Use advanced indexing to populate the array\n",
    "# kmers_arr[row_idx, col_indices] = 1\n",
    "\n",
    "detect_list = detect_kmers_across_sequences_mp(ref_db_sample[\"sequences\"], kmer_size=kmr_size)\n",
    "\n",
    "genera_idx = np.array(kmers.genera_str_to_index(ref_db_sample[\"taxonomy\"]), dtype=int)\n",
    "genera_idx = genera_idx.reshape(-1,1)\n",
    "\n",
    "genus_counts = genus_conditional_prob(detect_list, genera_idx, kmer_size=kmr_size)\n"
   ],
   "id": "a49dfbb027d67e31",
   "outputs": [],
   "execution_count": 5
  },
  {
   "metadata": {},
   "cell_type": "code",
   "source": [
    "\n",
    "\n",
    "\n",
    "detect_arr = genus_conditional_prob(detect_list, kmer_size=kmr_size)\n",
    "print(\"detect_arr complete\")\n",
    "\n",
    "new_arr = np.append(genera_idx, detect_arr, 1)\n",
    "\n",
    "genera_idx = new_arr[:, 0].astype(int)\n",
    "data = new_arr[:, 1:]\n",
    "\n",
    "unique_genera, inverse_indices = np.unique(genera_idx, return_inverse=True)\n",
    "result = np.zeros((len(unique_genera), data.shape[1]))\n",
    "np.add.at(result, inverse_indices, data)\n",
    "\n",
    "print(\"done with genus counts\")\n",
    "# If you need a DataFrame as the final output\n",
    "# df = pd.DataFrame(result, index=unique_genera)\n",
    "\n",
    "# df.shape"
   ],
   "id": "6c403f7d27c1d5fd",
   "outputs": [],
   "execution_count": null
  },
  {
   "metadata": {},
   "cell_type": "code",
   "source": [
    "my_arr = np.array(([1,1,2,2,3,3,4,4,4,2,2,1,]))\n",
    "un, inv = np.unique(my_arr, return_inverse=True)\n",
    "print(un)\n",
    "p"
   ],
   "id": "9566ddbefa89faa8",
   "outputs": [],
   "execution_count": null
  },
  {
   "metadata": {},
   "cell_type": "code",
   "source": "",
   "id": "2b728263f580165c",
   "outputs": [],
   "execution_count": null
  }
 ],
 "metadata": {
  "kernelspec": {
   "display_name": "Python 3",
   "language": "python",
   "name": "python3"
  },
  "language_info": {
   "codemirror_mode": {
    "name": "ipython",
    "version": 2
   },
   "file_extension": ".py",
   "mimetype": "text/x-python",
   "name": "python",
   "nbconvert_exporter": "python",
   "pygments_lexer": "ipython2",
   "version": "2.7.6"
  }
 },
 "nbformat": 4,
 "nbformat_minor": 5
}
